{
 "cells": [
  {
   "cell_type": "code",
   "execution_count": null,
   "metadata": {},
   "outputs": [],
   "source": [
    "#memanggil library\n",
    "from sklearn import datasets\n",
    "from sklearn.naive_bayes import GaussianNB\n",
    "from sklearn.model_selection import train_test_split\n",
    "from sklearn.metrics import accuracy_score\n",
    "from sklearn.metrics import classification_report\n",
    "import pandas as pd"
   ]
  },
  {
   "cell_type": "code",
   "execution_count": null,
   "metadata": {},
   "outputs": [],
   "source": [
    "#memanggil dataset dari library sklearn -> IRIS dataset\n",
    "bunga = datasets.load_iris()"
   ]
  },
  {
   "cell_type": "code",
   "execution_count": null,
   "metadata": {},
   "outputs": [],
   "source": [
    "#training dataset\n",
    "x = bunga.data"
   ]
  },
  {
   "cell_type": "code",
   "execution_count": null,
   "metadata": {},
   "outputs": [],
   "source": [
    "#target dataset\n",
    "y = bunga.target"
   ]
  },
  {
   "cell_type": "code",
   "execution_count": null,
   "metadata": {},
   "outputs": [],
   "source": [
    "#mencetak 10 data pertama dari dataframe\n",
    "df = pd.DataFrame(x, columns=bunga.feature_names)\n",
    "print(df.head(10))"
   ]
  },
  {
   "cell_type": "code",
   "execution_count": null,
   "metadata": {},
   "outputs": [],
   "source": [
    "#menampilkan jumlah baris dan kolom dataset\n",
    "print(bunga.data.shape)"
   ]
  },
  {
   "cell_type": "code",
   "execution_count": null,
   "metadata": {},
   "outputs": [],
   "source": [
    "#menampilkan target set dari data\n",
    "print(bunga.target_names)"
   ]
  },
  {
   "cell_type": "code",
   "execution_count": null,
   "metadata": {},
   "outputs": [],
   "source": [
    "#memilah data training dan data testing -> split train & test data\n",
    "x_train, x_test, y_train, y_test = train_test_split(x,y)"
   ]
  },
  {
   "cell_type": "code",
   "execution_count": null,
   "metadata": {},
   "outputs": [],
   "source": [
    "#memanggil naive bayes classifier -> mengaktifkan gaussian naive bayes\n",
    "nbc = GaussianNB()\n",
    "nbc.fit(bunga.data, bunga.target)"
   ]
  },
  {
   "cell_type": "code",
   "execution_count": null,
   "metadata": {},
   "outputs": [],
   "source": [
    "#melakukan prediksi data training\n",
    "nbc.predict(bunga.data)"
   ]
  },
  {
   "cell_type": "code",
   "execution_count": null,
   "metadata": {},
   "outputs": [],
   "source": [
    "#melakukan prediksi pada data input -> data yang akan diprediksi dengan\n",
    "panjang_sepal = 4.9\n",
    "lebar_sepal = 3.1\n",
    "panjang_petal = 1.5\n",
    "lebar_petal = 0.1\n",
    "\n",
    "DataUji = [[panjang_sepal, lebar_sepal, panjang_petal, lebar_petal]]\n",
    "\n",
    "#melakukan prediksi berdasarkan data input dengan naive bayes\n",
    "y_pred = nbc.predict(DataUji)\n",
    "\n",
    "#kondisi untuk cetak hasil prediksi\n",
    "if y_pred == 0:\n",
    "    hasil = \"Setosa\"\n",
    "elif y_pred == 1:\n",
    "    hasil = \"Versicolor\"\n",
    "elif y_pred == 2:\n",
    "    hasil = \"Virginica\"\n",
    "else:\n",
    "    hasil == \"Error\"\n",
    "\n",
    "print(\"Hasil prediksi termasuk ke dalam jenis bunga iris : \", hasil)"
   ]
  },
  {
   "cell_type": "code",
   "execution_count": null,
   "metadata": {},
   "outputs": [],
   "source": [
    "#menghitung akurasi \n",
    "print(\"Akurasi = %0.2f\" % accuracy_score(y_test, nbc.predict(x_test)))"
   ]
  },
  {
   "cell_type": "code",
   "execution_count": null,
   "metadata": {},
   "outputs": [],
   "source": [
    "#mencetak laporan hasil klasifikasi\n",
    "print(classification_report(y_test, nbc.predict(x_test)))"
   ]
  }
 ],
 "metadata": {
  "kernelspec": {
   "display_name": "Python 3.8.5 32-bit",
   "language": "python",
   "name": "python3"
  },
  "language_info": {
   "codemirror_mode": {
    "name": "ipython",
    "version": 3
   },
   "file_extension": ".py",
   "mimetype": "text/x-python",
   "name": "python",
   "nbconvert_exporter": "python",
   "pygments_lexer": "ipython3",
   "version": "3.8.5"
  },
  "orig_nbformat": 4,
  "vscode": {
   "interpreter": {
    "hash": "6d1e45cadc3597bb8b6600530fbdf8c3eefe919a24ef54d9d32b318795b772e0"
   }
  }
 },
 "nbformat": 4,
 "nbformat_minor": 2
}
